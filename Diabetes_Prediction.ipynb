{
 "cells": [
  {
   "cell_type": "code",
   "execution_count": 39,
   "id": "a844e46e",
   "metadata": {
    "execution": {
     "iopub.execute_input": "2023-03-01T18:02:45.324511Z",
     "iopub.status.busy": "2023-03-01T18:02:45.324114Z",
     "iopub.status.idle": "2023-03-01T18:02:46.477690Z",
     "shell.execute_reply": "2023-03-01T18:02:46.476623Z"
    },
    "papermill": {
     "duration": 1.163596,
     "end_time": "2023-03-01T18:02:46.480333",
     "exception": false,
     "start_time": "2023-03-01T18:02:45.316737",
     "status": "completed"
    },
    "tags": []
   },
   "outputs": [],
   "source": [
    "import pandas as pd\n",
    "import numpy as np\n",
    "from sklearn.preprocessing import StandardScaler\n",
    "from sklearn.model_selection import train_test_split\n",
    "from sklearn import svm\n",
    "from sklearn.metrics import accuracy_score "
   ]
  },
  {
   "cell_type": "code",
   "execution_count": 40,
   "id": "abaf9aa0",
   "metadata": {
    "execution": {
     "iopub.execute_input": "2023-03-01T18:02:46.494116Z",
     "iopub.status.busy": "2023-03-01T18:02:46.493676Z",
     "iopub.status.idle": "2023-03-01T18:02:46.541241Z",
     "shell.execute_reply": "2023-03-01T18:02:46.539805Z"
    },
    "papermill": {
     "duration": 0.057447,
     "end_time": "2023-03-01T18:02:46.543841",
     "exception": false,
     "start_time": "2023-03-01T18:02:46.486394",
     "status": "completed"
    },
    "tags": []
   },
   "outputs": [
    {
     "data": {
      "text/html": [
       "<div>\n",
       "<style scoped>\n",
       "    .dataframe tbody tr th:only-of-type {\n",
       "        vertical-align: middle;\n",
       "    }\n",
       "\n",
       "    .dataframe tbody tr th {\n",
       "        vertical-align: top;\n",
       "    }\n",
       "\n",
       "    .dataframe thead th {\n",
       "        text-align: right;\n",
       "    }\n",
       "</style>\n",
       "<table border=\"1\" class=\"dataframe\">\n",
       "  <thead>\n",
       "    <tr style=\"text-align: right;\">\n",
       "      <th></th>\n",
       "      <th>Pregnancies</th>\n",
       "      <th>Glucose</th>\n",
       "      <th>BloodPressure</th>\n",
       "      <th>SkinThickness</th>\n",
       "      <th>Insulin</th>\n",
       "      <th>BMI</th>\n",
       "      <th>DiabetesPedigreeFunction</th>\n",
       "      <th>Age</th>\n",
       "      <th>Outcome</th>\n",
       "    </tr>\n",
       "  </thead>\n",
       "  <tbody>\n",
       "    <tr>\n",
       "      <th>0</th>\n",
       "      <td>6</td>\n",
       "      <td>148</td>\n",
       "      <td>72</td>\n",
       "      <td>35</td>\n",
       "      <td>0</td>\n",
       "      <td>33.6</td>\n",
       "      <td>0.627</td>\n",
       "      <td>50</td>\n",
       "      <td>1</td>\n",
       "    </tr>\n",
       "    <tr>\n",
       "      <th>1</th>\n",
       "      <td>1</td>\n",
       "      <td>85</td>\n",
       "      <td>66</td>\n",
       "      <td>29</td>\n",
       "      <td>0</td>\n",
       "      <td>26.6</td>\n",
       "      <td>0.351</td>\n",
       "      <td>31</td>\n",
       "      <td>0</td>\n",
       "    </tr>\n",
       "    <tr>\n",
       "      <th>2</th>\n",
       "      <td>8</td>\n",
       "      <td>183</td>\n",
       "      <td>64</td>\n",
       "      <td>0</td>\n",
       "      <td>0</td>\n",
       "      <td>23.3</td>\n",
       "      <td>0.672</td>\n",
       "      <td>32</td>\n",
       "      <td>1</td>\n",
       "    </tr>\n",
       "    <tr>\n",
       "      <th>3</th>\n",
       "      <td>1</td>\n",
       "      <td>89</td>\n",
       "      <td>66</td>\n",
       "      <td>23</td>\n",
       "      <td>94</td>\n",
       "      <td>28.1</td>\n",
       "      <td>0.167</td>\n",
       "      <td>21</td>\n",
       "      <td>0</td>\n",
       "    </tr>\n",
       "    <tr>\n",
       "      <th>4</th>\n",
       "      <td>0</td>\n",
       "      <td>137</td>\n",
       "      <td>40</td>\n",
       "      <td>35</td>\n",
       "      <td>168</td>\n",
       "      <td>43.1</td>\n",
       "      <td>2.288</td>\n",
       "      <td>33</td>\n",
       "      <td>1</td>\n",
       "    </tr>\n",
       "    <tr>\n",
       "      <th>...</th>\n",
       "      <td>...</td>\n",
       "      <td>...</td>\n",
       "      <td>...</td>\n",
       "      <td>...</td>\n",
       "      <td>...</td>\n",
       "      <td>...</td>\n",
       "      <td>...</td>\n",
       "      <td>...</td>\n",
       "      <td>...</td>\n",
       "    </tr>\n",
       "    <tr>\n",
       "      <th>763</th>\n",
       "      <td>10</td>\n",
       "      <td>101</td>\n",
       "      <td>76</td>\n",
       "      <td>48</td>\n",
       "      <td>180</td>\n",
       "      <td>32.9</td>\n",
       "      <td>0.171</td>\n",
       "      <td>63</td>\n",
       "      <td>0</td>\n",
       "    </tr>\n",
       "    <tr>\n",
       "      <th>764</th>\n",
       "      <td>2</td>\n",
       "      <td>122</td>\n",
       "      <td>70</td>\n",
       "      <td>27</td>\n",
       "      <td>0</td>\n",
       "      <td>36.8</td>\n",
       "      <td>0.340</td>\n",
       "      <td>27</td>\n",
       "      <td>0</td>\n",
       "    </tr>\n",
       "    <tr>\n",
       "      <th>765</th>\n",
       "      <td>5</td>\n",
       "      <td>121</td>\n",
       "      <td>72</td>\n",
       "      <td>23</td>\n",
       "      <td>112</td>\n",
       "      <td>26.2</td>\n",
       "      <td>0.245</td>\n",
       "      <td>30</td>\n",
       "      <td>0</td>\n",
       "    </tr>\n",
       "    <tr>\n",
       "      <th>766</th>\n",
       "      <td>1</td>\n",
       "      <td>126</td>\n",
       "      <td>60</td>\n",
       "      <td>0</td>\n",
       "      <td>0</td>\n",
       "      <td>30.1</td>\n",
       "      <td>0.349</td>\n",
       "      <td>47</td>\n",
       "      <td>1</td>\n",
       "    </tr>\n",
       "    <tr>\n",
       "      <th>767</th>\n",
       "      <td>1</td>\n",
       "      <td>93</td>\n",
       "      <td>70</td>\n",
       "      <td>31</td>\n",
       "      <td>0</td>\n",
       "      <td>30.4</td>\n",
       "      <td>0.315</td>\n",
       "      <td>23</td>\n",
       "      <td>0</td>\n",
       "    </tr>\n",
       "  </tbody>\n",
       "</table>\n",
       "<p>768 rows × 9 columns</p>\n",
       "</div>"
      ],
      "text/plain": [
       "     Pregnancies  Glucose  BloodPressure  SkinThickness  Insulin   BMI  \\\n",
       "0              6      148             72             35        0  33.6   \n",
       "1              1       85             66             29        0  26.6   \n",
       "2              8      183             64              0        0  23.3   \n",
       "3              1       89             66             23       94  28.1   \n",
       "4              0      137             40             35      168  43.1   \n",
       "..           ...      ...            ...            ...      ...   ...   \n",
       "763           10      101             76             48      180  32.9   \n",
       "764            2      122             70             27        0  36.8   \n",
       "765            5      121             72             23      112  26.2   \n",
       "766            1      126             60              0        0  30.1   \n",
       "767            1       93             70             31        0  30.4   \n",
       "\n",
       "     DiabetesPedigreeFunction  Age  Outcome  \n",
       "0                       0.627   50        1  \n",
       "1                       0.351   31        0  \n",
       "2                       0.672   32        1  \n",
       "3                       0.167   21        0  \n",
       "4                       2.288   33        1  \n",
       "..                        ...  ...      ...  \n",
       "763                     0.171   63        0  \n",
       "764                     0.340   27        0  \n",
       "765                     0.245   30        0  \n",
       "766                     0.349   47        1  \n",
       "767                     0.315   23        0  \n",
       "\n",
       "[768 rows x 9 columns]"
      ]
     },
     "execution_count": 40,
     "metadata": {},
     "output_type": "execute_result"
    }
   ],
   "source": [
    "#Data collection and anaysis\n",
    "df=pd.read_csv(r\"C:\\Desktop1\\Shwetha V\\RiskHealthBoard_Project\\diabetes.csv\")\n",
    "df"
   ]
  },
  {
   "cell_type": "code",
   "execution_count": 41,
   "id": "a0affba7",
   "metadata": {
    "execution": {
     "iopub.execute_input": "2023-03-01T18:02:46.558039Z",
     "iopub.status.busy": "2023-03-01T18:02:46.557631Z",
     "iopub.status.idle": "2023-03-01T18:02:46.564206Z",
     "shell.execute_reply": "2023-03-01T18:02:46.563140Z"
    },
    "papermill": {
     "duration": 0.016558,
     "end_time": "2023-03-01T18:02:46.566672",
     "exception": false,
     "start_time": "2023-03-01T18:02:46.550114",
     "status": "completed"
    },
    "tags": []
   },
   "outputs": [
    {
     "data": {
      "text/plain": [
       "(768, 9)"
      ]
     },
     "execution_count": 41,
     "metadata": {},
     "output_type": "execute_result"
    }
   ],
   "source": [
    "#number of rows and columns in the dataset\n",
    "df.shape"
   ]
  },
  {
   "cell_type": "code",
   "execution_count": 42,
   "id": "44cbceef",
   "metadata": {
    "execution": {
     "iopub.execute_input": "2023-03-01T18:02:46.582276Z",
     "iopub.status.busy": "2023-03-01T18:02:46.581248Z",
     "iopub.status.idle": "2023-03-01T18:02:46.630893Z",
     "shell.execute_reply": "2023-03-01T18:02:46.628999Z"
    },
    "papermill": {
     "duration": 0.060333,
     "end_time": "2023-03-01T18:02:46.633731",
     "exception": false,
     "start_time": "2023-03-01T18:02:46.573398",
     "status": "completed"
    },
    "tags": []
   },
   "outputs": [
    {
     "data": {
      "text/html": [
       "<div>\n",
       "<style scoped>\n",
       "    .dataframe tbody tr th:only-of-type {\n",
       "        vertical-align: middle;\n",
       "    }\n",
       "\n",
       "    .dataframe tbody tr th {\n",
       "        vertical-align: top;\n",
       "    }\n",
       "\n",
       "    .dataframe thead th {\n",
       "        text-align: right;\n",
       "    }\n",
       "</style>\n",
       "<table border=\"1\" class=\"dataframe\">\n",
       "  <thead>\n",
       "    <tr style=\"text-align: right;\">\n",
       "      <th></th>\n",
       "      <th>Pregnancies</th>\n",
       "      <th>Glucose</th>\n",
       "      <th>BloodPressure</th>\n",
       "      <th>SkinThickness</th>\n",
       "      <th>Insulin</th>\n",
       "      <th>BMI</th>\n",
       "      <th>DiabetesPedigreeFunction</th>\n",
       "      <th>Age</th>\n",
       "      <th>Outcome</th>\n",
       "    </tr>\n",
       "  </thead>\n",
       "  <tbody>\n",
       "    <tr>\n",
       "      <th>count</th>\n",
       "      <td>768.00</td>\n",
       "      <td>768.00</td>\n",
       "      <td>768.00</td>\n",
       "      <td>768.00</td>\n",
       "      <td>768.00</td>\n",
       "      <td>768.00</td>\n",
       "      <td>768.00</td>\n",
       "      <td>768.00</td>\n",
       "      <td>768.00</td>\n",
       "    </tr>\n",
       "    <tr>\n",
       "      <th>mean</th>\n",
       "      <td>3.85</td>\n",
       "      <td>120.89</td>\n",
       "      <td>69.11</td>\n",
       "      <td>20.54</td>\n",
       "      <td>79.80</td>\n",
       "      <td>31.99</td>\n",
       "      <td>0.47</td>\n",
       "      <td>33.24</td>\n",
       "      <td>0.35</td>\n",
       "    </tr>\n",
       "    <tr>\n",
       "      <th>std</th>\n",
       "      <td>3.37</td>\n",
       "      <td>31.97</td>\n",
       "      <td>19.36</td>\n",
       "      <td>15.95</td>\n",
       "      <td>115.24</td>\n",
       "      <td>7.88</td>\n",
       "      <td>0.33</td>\n",
       "      <td>11.76</td>\n",
       "      <td>0.48</td>\n",
       "    </tr>\n",
       "    <tr>\n",
       "      <th>min</th>\n",
       "      <td>0.00</td>\n",
       "      <td>0.00</td>\n",
       "      <td>0.00</td>\n",
       "      <td>0.00</td>\n",
       "      <td>0.00</td>\n",
       "      <td>0.00</td>\n",
       "      <td>0.08</td>\n",
       "      <td>21.00</td>\n",
       "      <td>0.00</td>\n",
       "    </tr>\n",
       "    <tr>\n",
       "      <th>25%</th>\n",
       "      <td>1.00</td>\n",
       "      <td>99.00</td>\n",
       "      <td>62.00</td>\n",
       "      <td>0.00</td>\n",
       "      <td>0.00</td>\n",
       "      <td>27.30</td>\n",
       "      <td>0.24</td>\n",
       "      <td>24.00</td>\n",
       "      <td>0.00</td>\n",
       "    </tr>\n",
       "    <tr>\n",
       "      <th>50%</th>\n",
       "      <td>3.00</td>\n",
       "      <td>117.00</td>\n",
       "      <td>72.00</td>\n",
       "      <td>23.00</td>\n",
       "      <td>30.50</td>\n",
       "      <td>32.00</td>\n",
       "      <td>0.37</td>\n",
       "      <td>29.00</td>\n",
       "      <td>0.00</td>\n",
       "    </tr>\n",
       "    <tr>\n",
       "      <th>75%</th>\n",
       "      <td>6.00</td>\n",
       "      <td>140.25</td>\n",
       "      <td>80.00</td>\n",
       "      <td>32.00</td>\n",
       "      <td>127.25</td>\n",
       "      <td>36.60</td>\n",
       "      <td>0.63</td>\n",
       "      <td>41.00</td>\n",
       "      <td>1.00</td>\n",
       "    </tr>\n",
       "    <tr>\n",
       "      <th>max</th>\n",
       "      <td>17.00</td>\n",
       "      <td>199.00</td>\n",
       "      <td>122.00</td>\n",
       "      <td>99.00</td>\n",
       "      <td>846.00</td>\n",
       "      <td>67.10</td>\n",
       "      <td>2.42</td>\n",
       "      <td>81.00</td>\n",
       "      <td>1.00</td>\n",
       "    </tr>\n",
       "  </tbody>\n",
       "</table>\n",
       "</div>"
      ],
      "text/plain": [
       "       Pregnancies  Glucose  BloodPressure  SkinThickness  Insulin     BMI  \\\n",
       "count       768.00   768.00         768.00         768.00   768.00  768.00   \n",
       "mean          3.85   120.89          69.11          20.54    79.80   31.99   \n",
       "std           3.37    31.97          19.36          15.95   115.24    7.88   \n",
       "min           0.00     0.00           0.00           0.00     0.00    0.00   \n",
       "25%           1.00    99.00          62.00           0.00     0.00   27.30   \n",
       "50%           3.00   117.00          72.00          23.00    30.50   32.00   \n",
       "75%           6.00   140.25          80.00          32.00   127.25   36.60   \n",
       "max          17.00   199.00         122.00          99.00   846.00   67.10   \n",
       "\n",
       "       DiabetesPedigreeFunction     Age  Outcome  \n",
       "count                    768.00  768.00   768.00  \n",
       "mean                       0.47   33.24     0.35  \n",
       "std                        0.33   11.76     0.48  \n",
       "min                        0.08   21.00     0.00  \n",
       "25%                        0.24   24.00     0.00  \n",
       "50%                        0.37   29.00     0.00  \n",
       "75%                        0.63   41.00     1.00  \n",
       "max                        2.42   81.00     1.00  "
      ]
     },
     "execution_count": 42,
     "metadata": {},
     "output_type": "execute_result"
    }
   ],
   "source": [
    "#getting the statistical measures of the data \n",
    "df.describe().round(2)"
   ]
  },
  {
   "cell_type": "code",
   "execution_count": 43,
   "id": "48c1425a",
   "metadata": {
    "execution": {
     "iopub.execute_input": "2023-03-01T18:02:46.649103Z",
     "iopub.status.busy": "2023-03-01T18:02:46.648756Z",
     "iopub.status.idle": "2023-03-01T18:02:46.657269Z",
     "shell.execute_reply": "2023-03-01T18:02:46.656241Z"
    },
    "papermill": {
     "duration": 0.018819,
     "end_time": "2023-03-01T18:02:46.659459",
     "exception": false,
     "start_time": "2023-03-01T18:02:46.640640",
     "status": "completed"
    },
    "tags": []
   },
   "outputs": [
    {
     "data": {
      "text/plain": [
       "0    500\n",
       "1    268\n",
       "Name: Outcome, dtype: int64"
      ]
     },
     "execution_count": 43,
     "metadata": {},
     "output_type": "execute_result"
    }
   ],
   "source": [
    "df['Outcome'].value_counts()"
   ]
  },
  {
   "cell_type": "code",
   "execution_count": 44,
   "id": "847e9633",
   "metadata": {
    "execution": {
     "iopub.execute_input": "2023-03-01T18:02:46.675600Z",
     "iopub.status.busy": "2023-03-01T18:02:46.674485Z",
     "iopub.status.idle": "2023-03-01T18:02:46.695276Z",
     "shell.execute_reply": "2023-03-01T18:02:46.693486Z"
    },
    "papermill": {
     "duration": 0.031732,
     "end_time": "2023-03-01T18:02:46.698191",
     "exception": false,
     "start_time": "2023-03-01T18:02:46.666459",
     "status": "completed"
    },
    "tags": []
   },
   "outputs": [
    {
     "data": {
      "text/html": [
       "<div>\n",
       "<style scoped>\n",
       "    .dataframe tbody tr th:only-of-type {\n",
       "        vertical-align: middle;\n",
       "    }\n",
       "\n",
       "    .dataframe tbody tr th {\n",
       "        vertical-align: top;\n",
       "    }\n",
       "\n",
       "    .dataframe thead th {\n",
       "        text-align: right;\n",
       "    }\n",
       "</style>\n",
       "<table border=\"1\" class=\"dataframe\">\n",
       "  <thead>\n",
       "    <tr style=\"text-align: right;\">\n",
       "      <th></th>\n",
       "      <th>Pregnancies</th>\n",
       "      <th>Glucose</th>\n",
       "      <th>BloodPressure</th>\n",
       "      <th>SkinThickness</th>\n",
       "      <th>Insulin</th>\n",
       "      <th>BMI</th>\n",
       "      <th>DiabetesPedigreeFunction</th>\n",
       "      <th>Age</th>\n",
       "    </tr>\n",
       "    <tr>\n",
       "      <th>Outcome</th>\n",
       "      <th></th>\n",
       "      <th></th>\n",
       "      <th></th>\n",
       "      <th></th>\n",
       "      <th></th>\n",
       "      <th></th>\n",
       "      <th></th>\n",
       "      <th></th>\n",
       "    </tr>\n",
       "  </thead>\n",
       "  <tbody>\n",
       "    <tr>\n",
       "      <th>0</th>\n",
       "      <td>3.30</td>\n",
       "      <td>109.98</td>\n",
       "      <td>68.18</td>\n",
       "      <td>19.66</td>\n",
       "      <td>68.79</td>\n",
       "      <td>30.30</td>\n",
       "      <td>0.43</td>\n",
       "      <td>31.19</td>\n",
       "    </tr>\n",
       "    <tr>\n",
       "      <th>1</th>\n",
       "      <td>4.87</td>\n",
       "      <td>141.26</td>\n",
       "      <td>70.82</td>\n",
       "      <td>22.16</td>\n",
       "      <td>100.34</td>\n",
       "      <td>35.14</td>\n",
       "      <td>0.55</td>\n",
       "      <td>37.07</td>\n",
       "    </tr>\n",
       "  </tbody>\n",
       "</table>\n",
       "</div>"
      ],
      "text/plain": [
       "         Pregnancies  Glucose  BloodPressure  SkinThickness  Insulin    BMI  \\\n",
       "Outcome                                                                       \n",
       "0               3.30   109.98          68.18          19.66    68.79  30.30   \n",
       "1               4.87   141.26          70.82          22.16   100.34  35.14   \n",
       "\n",
       "         DiabetesPedigreeFunction    Age  \n",
       "Outcome                                   \n",
       "0                            0.43  31.19  \n",
       "1                            0.55  37.07  "
      ]
     },
     "execution_count": 44,
     "metadata": {},
     "output_type": "execute_result"
    }
   ],
   "source": [
    "df.groupby('Outcome').mean().round(2)"
   ]
  },
  {
   "cell_type": "code",
   "execution_count": 45,
   "id": "fd8b895c",
   "metadata": {
    "execution": {
     "iopub.execute_input": "2023-03-01T18:02:46.714456Z",
     "iopub.status.busy": "2023-03-01T18:02:46.714043Z",
     "iopub.status.idle": "2023-03-01T18:02:46.720572Z",
     "shell.execute_reply": "2023-03-01T18:02:46.719066Z"
    },
    "papermill": {
     "duration": 0.017135,
     "end_time": "2023-03-01T18:02:46.722535",
     "exception": false,
     "start_time": "2023-03-01T18:02:46.705400",
     "status": "completed"
    },
    "tags": []
   },
   "outputs": [],
   "source": [
    "#separating the data and labels\n",
    "X=df.drop(columns='Outcome',axis=1)\n",
    "Y=df['Outcome']"
   ]
  },
  {
   "cell_type": "code",
   "execution_count": 46,
   "id": "2c09926b",
   "metadata": {
    "execution": {
     "iopub.execute_input": "2023-03-01T18:02:46.739204Z",
     "iopub.status.busy": "2023-03-01T18:02:46.738754Z",
     "iopub.status.idle": "2023-03-01T18:02:46.749010Z",
     "shell.execute_reply": "2023-03-01T18:02:46.748023Z"
    },
    "papermill": {
     "duration": 0.021835,
     "end_time": "2023-03-01T18:02:46.751440",
     "exception": false,
     "start_time": "2023-03-01T18:02:46.729605",
     "status": "completed"
    },
    "tags": []
   },
   "outputs": [
    {
     "name": "stdout",
     "output_type": "stream",
     "text": [
      "     Pregnancies  Glucose  BloodPressure  SkinThickness  Insulin   BMI  \\\n",
      "0              6      148             72             35        0  33.6   \n",
      "1              1       85             66             29        0  26.6   \n",
      "2              8      183             64              0        0  23.3   \n",
      "3              1       89             66             23       94  28.1   \n",
      "4              0      137             40             35      168  43.1   \n",
      "..           ...      ...            ...            ...      ...   ...   \n",
      "763           10      101             76             48      180  32.9   \n",
      "764            2      122             70             27        0  36.8   \n",
      "765            5      121             72             23      112  26.2   \n",
      "766            1      126             60              0        0  30.1   \n",
      "767            1       93             70             31        0  30.4   \n",
      "\n",
      "     DiabetesPedigreeFunction  Age  \n",
      "0                       0.627   50  \n",
      "1                       0.351   31  \n",
      "2                       0.672   32  \n",
      "3                       0.167   21  \n",
      "4                       2.288   33  \n",
      "..                        ...  ...  \n",
      "763                     0.171   63  \n",
      "764                     0.340   27  \n",
      "765                     0.245   30  \n",
      "766                     0.349   47  \n",
      "767                     0.315   23  \n",
      "\n",
      "[768 rows x 8 columns]\n"
     ]
    }
   ],
   "source": [
    "print(X)"
   ]
  },
  {
   "cell_type": "code",
   "execution_count": 47,
   "id": "e5e07741",
   "metadata": {
    "execution": {
     "iopub.execute_input": "2023-03-01T18:02:46.769486Z",
     "iopub.status.busy": "2023-03-01T18:02:46.769051Z",
     "iopub.status.idle": "2023-03-01T18:02:46.776548Z",
     "shell.execute_reply": "2023-03-01T18:02:46.774343Z"
    },
    "papermill": {
     "duration": 0.018601,
     "end_time": "2023-03-01T18:02:46.778953",
     "exception": false,
     "start_time": "2023-03-01T18:02:46.760352",
     "status": "completed"
    },
    "tags": []
   },
   "outputs": [
    {
     "name": "stdout",
     "output_type": "stream",
     "text": [
      "0      1\n",
      "1      0\n",
      "2      1\n",
      "3      0\n",
      "4      1\n",
      "      ..\n",
      "763    0\n",
      "764    0\n",
      "765    0\n",
      "766    1\n",
      "767    0\n",
      "Name: Outcome, Length: 768, dtype: int64\n"
     ]
    }
   ],
   "source": [
    "print(Y)"
   ]
  },
  {
   "cell_type": "code",
   "execution_count": 48,
   "id": "84d6f039",
   "metadata": {
    "execution": {
     "iopub.execute_input": "2023-03-01T18:02:46.795595Z",
     "iopub.status.busy": "2023-03-01T18:02:46.794622Z",
     "iopub.status.idle": "2023-03-01T18:02:46.811299Z",
     "shell.execute_reply": "2023-03-01T18:02:46.809592Z"
    },
    "papermill": {
     "duration": 0.027772,
     "end_time": "2023-03-01T18:02:46.813894",
     "exception": false,
     "start_time": "2023-03-01T18:02:46.786122",
     "status": "completed"
    },
    "tags": []
   },
   "outputs": [
    {
     "data": {
      "text/plain": [
       "StandardScaler()"
      ]
     },
     "execution_count": 48,
     "metadata": {},
     "output_type": "execute_result"
    }
   ],
   "source": [
    "#Data Standardization\n",
    "scaler=StandardScaler()\n",
    "scaler.fit(X)"
   ]
  },
  {
   "cell_type": "code",
   "execution_count": 49,
   "id": "abfeb2d7",
   "metadata": {
    "execution": {
     "iopub.execute_input": "2023-03-01T18:02:46.830792Z",
     "iopub.status.busy": "2023-03-01T18:02:46.830438Z",
     "iopub.status.idle": "2023-03-01T18:02:46.837877Z",
     "shell.execute_reply": "2023-03-01T18:02:46.836110Z"
    },
    "papermill": {
     "duration": 0.018971,
     "end_time": "2023-03-01T18:02:46.840412",
     "exception": false,
     "start_time": "2023-03-01T18:02:46.821441",
     "status": "completed"
    },
    "tags": []
   },
   "outputs": [],
   "source": [
    "standardized_data=scaler.transform(X)"
   ]
  },
  {
   "cell_type": "code",
   "execution_count": 50,
   "id": "883fe04e",
   "metadata": {
    "execution": {
     "iopub.execute_input": "2023-03-01T18:02:46.857631Z",
     "iopub.status.busy": "2023-03-01T18:02:46.857166Z",
     "iopub.status.idle": "2023-03-01T18:02:46.864662Z",
     "shell.execute_reply": "2023-03-01T18:02:46.862378Z"
    },
    "papermill": {
     "duration": 0.019822,
     "end_time": "2023-03-01T18:02:46.867852",
     "exception": false,
     "start_time": "2023-03-01T18:02:46.848030",
     "status": "completed"
    },
    "tags": []
   },
   "outputs": [
    {
     "name": "stdout",
     "output_type": "stream",
     "text": [
      "[[ 0.63994726  0.84832379  0.14964075 ...  0.20401277  0.46849198\n",
      "   1.4259954 ]\n",
      " [-0.84488505 -1.12339636 -0.16054575 ... -0.68442195 -0.36506078\n",
      "  -0.19067191]\n",
      " [ 1.23388019  1.94372388 -0.26394125 ... -1.10325546  0.60439732\n",
      "  -0.10558415]\n",
      " ...\n",
      " [ 0.3429808   0.00330087  0.14964075 ... -0.73518964 -0.68519336\n",
      "  -0.27575966]\n",
      " [-0.84488505  0.1597866  -0.47073225 ... -0.24020459 -0.37110101\n",
      "   1.17073215]\n",
      " [-0.84488505 -0.8730192   0.04624525 ... -0.20212881 -0.47378505\n",
      "  -0.87137393]]\n"
     ]
    }
   ],
   "source": [
    "print(standardized_data)"
   ]
  },
  {
   "cell_type": "code",
   "execution_count": 51,
   "id": "c36be9d3",
   "metadata": {
    "execution": {
     "iopub.execute_input": "2023-03-01T18:02:46.885124Z",
     "iopub.status.busy": "2023-03-01T18:02:46.884739Z",
     "iopub.status.idle": "2023-03-01T18:02:46.893951Z",
     "shell.execute_reply": "2023-03-01T18:02:46.892563Z"
    },
    "papermill": {
     "duration": 0.020894,
     "end_time": "2023-03-01T18:02:46.896716",
     "exception": false,
     "start_time": "2023-03-01T18:02:46.875822",
     "status": "completed"
    },
    "tags": []
   },
   "outputs": [
    {
     "name": "stdout",
     "output_type": "stream",
     "text": [
      "[[ 0.63994726  0.84832379  0.14964075 ...  0.20401277  0.46849198\n",
      "   1.4259954 ]\n",
      " [-0.84488505 -1.12339636 -0.16054575 ... -0.68442195 -0.36506078\n",
      "  -0.19067191]\n",
      " [ 1.23388019  1.94372388 -0.26394125 ... -1.10325546  0.60439732\n",
      "  -0.10558415]\n",
      " ...\n",
      " [ 0.3429808   0.00330087  0.14964075 ... -0.73518964 -0.68519336\n",
      "  -0.27575966]\n",
      " [-0.84488505  0.1597866  -0.47073225 ... -0.24020459 -0.37110101\n",
      "   1.17073215]\n",
      " [-0.84488505 -0.8730192   0.04624525 ... -0.20212881 -0.47378505\n",
      "  -0.87137393]]\n",
      "0      1\n",
      "1      0\n",
      "2      1\n",
      "3      0\n",
      "4      1\n",
      "      ..\n",
      "763    0\n",
      "764    0\n",
      "765    0\n",
      "766    1\n",
      "767    0\n",
      "Name: Outcome, Length: 768, dtype: int64\n"
     ]
    }
   ],
   "source": [
    "X=standardized_data\n",
    "Y=df['Outcome']\n",
    "print(X)\n",
    "print(Y)\n"
   ]
  },
  {
   "cell_type": "code",
   "execution_count": 52,
   "id": "b3cc8efe",
   "metadata": {
    "execution": {
     "iopub.execute_input": "2023-03-01T18:02:46.915072Z",
     "iopub.status.busy": "2023-03-01T18:02:46.913481Z",
     "iopub.status.idle": "2023-03-01T18:02:46.923038Z",
     "shell.execute_reply": "2023-03-01T18:02:46.921939Z"
    },
    "papermill": {
     "duration": 0.021535,
     "end_time": "2023-03-01T18:02:46.925970",
     "exception": false,
     "start_time": "2023-03-01T18:02:46.904435",
     "status": "completed"
    },
    "tags": []
   },
   "outputs": [],
   "source": [
    "#Train Test split\n",
    "X_train,X_test,Y_train,Y_test=train_test_split(X,Y,test_size=0.2,stratify=Y,random_state=2)"
   ]
  },
  {
   "cell_type": "code",
   "execution_count": 53,
   "id": "0f8066e1",
   "metadata": {
    "execution": {
     "iopub.execute_input": "2023-03-01T18:02:46.944379Z",
     "iopub.status.busy": "2023-03-01T18:02:46.943847Z",
     "iopub.status.idle": "2023-03-01T18:02:46.949293Z",
     "shell.execute_reply": "2023-03-01T18:02:46.948316Z"
    },
    "papermill": {
     "duration": 0.016782,
     "end_time": "2023-03-01T18:02:46.951097",
     "exception": false,
     "start_time": "2023-03-01T18:02:46.934315",
     "status": "completed"
    },
    "tags": []
   },
   "outputs": [
    {
     "name": "stdout",
     "output_type": "stream",
     "text": [
      "(768, 8) (614, 8) (154, 8)\n"
     ]
    }
   ],
   "source": [
    "print(X.shape,X_train.shape,X_test.shape)"
   ]
  },
  {
   "cell_type": "code",
   "execution_count": 54,
   "id": "9d6fc764",
   "metadata": {
    "execution": {
     "iopub.execute_input": "2023-03-01T18:02:46.969708Z",
     "iopub.status.busy": "2023-03-01T18:02:46.969259Z",
     "iopub.status.idle": "2023-03-01T18:02:46.975767Z",
     "shell.execute_reply": "2023-03-01T18:02:46.973699Z"
    },
    "papermill": {
     "duration": 0.019449,
     "end_time": "2023-03-01T18:02:46.978959",
     "exception": false,
     "start_time": "2023-03-01T18:02:46.959510",
     "status": "completed"
    },
    "tags": []
   },
   "outputs": [],
   "source": [
    "#Training the model\n",
    "classifier=svm.SVC(kernel='linear')"
   ]
  },
  {
   "cell_type": "code",
   "execution_count": 55,
   "id": "fa30a35d",
   "metadata": {
    "execution": {
     "iopub.execute_input": "2023-03-01T18:02:46.996377Z",
     "iopub.status.busy": "2023-03-01T18:02:46.995978Z",
     "iopub.status.idle": "2023-03-01T18:02:47.017140Z",
     "shell.execute_reply": "2023-03-01T18:02:47.015413Z"
    },
    "papermill": {
     "duration": 0.033168,
     "end_time": "2023-03-01T18:02:47.020059",
     "exception": false,
     "start_time": "2023-03-01T18:02:46.986891",
     "status": "completed"
    },
    "tags": []
   },
   "outputs": [
    {
     "data": {
      "text/plain": [
       "SVC(kernel='linear')"
      ]
     },
     "execution_count": 55,
     "metadata": {},
     "output_type": "execute_result"
    }
   ],
   "source": [
    "#training the support vector Machine Classifier \n",
    "classifier.fit(X_train,Y_train)"
   ]
  },
  {
   "cell_type": "code",
   "execution_count": 56,
   "id": "e57b4783",
   "metadata": {
    "execution": {
     "iopub.execute_input": "2023-03-01T18:02:47.038057Z",
     "iopub.status.busy": "2023-03-01T18:02:47.037143Z",
     "iopub.status.idle": "2023-03-01T18:02:47.046203Z",
     "shell.execute_reply": "2023-03-01T18:02:47.045296Z"
    },
    "papermill": {
     "duration": 0.020604,
     "end_time": "2023-03-01T18:02:47.049134",
     "exception": false,
     "start_time": "2023-03-01T18:02:47.028530",
     "status": "completed"
    },
    "tags": []
   },
   "outputs": [],
   "source": [
    "#Model Evaluation\n",
    "#Accuracy Score \n",
    "#accuracy score on the training data\n",
    "X_train_prediction=classifier.predict(X_train)"
   ]
  },
  {
   "cell_type": "code",
   "execution_count": 57,
   "id": "7d3511f2",
   "metadata": {
    "execution": {
     "iopub.execute_input": "2023-03-01T18:02:47.066493Z",
     "iopub.status.busy": "2023-03-01T18:02:47.066048Z",
     "iopub.status.idle": "2023-03-01T18:02:47.073860Z",
     "shell.execute_reply": "2023-03-01T18:02:47.072358Z"
    },
    "papermill": {
     "duration": 0.019242,
     "end_time": "2023-03-01T18:02:47.076144",
     "exception": false,
     "start_time": "2023-03-01T18:02:47.056902",
     "status": "completed"
    },
    "tags": []
   },
   "outputs": [
    {
     "name": "stdout",
     "output_type": "stream",
     "text": [
      "Accuracy score of the training data: 0.7866449511400652\n"
     ]
    }
   ],
   "source": [
    "training_data_accuracy=accuracy_score(X_train_prediction,Y_train)\n",
    "print('Accuracy score of the training data:',training_data_accuracy)\n"
   ]
  },
  {
   "cell_type": "code",
   "execution_count": 58,
   "id": "72d716ef",
   "metadata": {
    "execution": {
     "iopub.execute_input": "2023-03-01T18:02:47.094373Z",
     "iopub.status.busy": "2023-03-01T18:02:47.093020Z",
     "iopub.status.idle": "2023-03-01T18:02:47.101766Z",
     "shell.execute_reply": "2023-03-01T18:02:47.100574Z"
    },
    "papermill": {
     "duration": 0.020208,
     "end_time": "2023-03-01T18:02:47.104089",
     "exception": false,
     "start_time": "2023-03-01T18:02:47.083881",
     "status": "completed"
    },
    "tags": []
   },
   "outputs": [
    {
     "name": "stdout",
     "output_type": "stream",
     "text": [
      "Accuracy score of the test data: 0.7727272727272727\n"
     ]
    }
   ],
   "source": [
    "X_test_prediction=classifier.predict(X_test)\n",
    "test_data_accuracy=accuracy_score(X_test_prediction,Y_test)\n",
    "print('Accuracy score of the test data:',test_data_accuracy)\n"
   ]
  },
  {
   "cell_type": "code",
   "execution_count": 59,
   "id": "e9575c5d",
   "metadata": {
    "execution": {
     "iopub.execute_input": "2023-03-01T18:02:47.123793Z",
     "iopub.status.busy": "2023-03-01T18:02:47.123376Z",
     "iopub.status.idle": "2023-03-01T18:02:47.128100Z",
     "shell.execute_reply": "2023-03-01T18:02:47.127082Z"
    },
    "papermill": {
     "duration": 0.016917,
     "end_time": "2023-03-01T18:02:47.130056",
     "exception": false,
     "start_time": "2023-03-01T18:02:47.113139",
     "status": "completed"
    },
    "tags": []
   },
   "outputs": [],
   "source": [
    "#Making the prediction\n",
    "input_data=(4,110,92,0,0,37.6,0.191,30)"
   ]
  },
  {
   "cell_type": "code",
   "execution_count": 60,
   "id": "916522e8",
   "metadata": {
    "execution": {
     "iopub.execute_input": "2023-03-01T18:02:47.147735Z",
     "iopub.status.busy": "2023-03-01T18:02:47.147319Z",
     "iopub.status.idle": "2023-03-01T18:02:47.153228Z",
     "shell.execute_reply": "2023-03-01T18:02:47.151647Z"
    },
    "papermill": {
     "duration": 0.018065,
     "end_time": "2023-03-01T18:02:47.156005",
     "exception": false,
     "start_time": "2023-03-01T18:02:47.137940",
     "status": "completed"
    },
    "tags": []
   },
   "outputs": [],
   "source": [
    "#changing the input data to numoy array \n",
    "input_data_as_numpy_array=np.asarray(input_data)\n",
    "#reshape the array as we are prediction for one instance \n",
    "input_data_reshaped=input_data_as_numpy_array.reshape(1,-1)"
   ]
  },
  {
   "cell_type": "code",
   "execution_count": 61,
   "id": "5bfe5f22",
   "metadata": {
    "execution": {
     "iopub.execute_input": "2023-03-01T18:02:47.173624Z",
     "iopub.status.busy": "2023-03-01T18:02:47.173236Z",
     "iopub.status.idle": "2023-03-01T18:02:47.179838Z",
     "shell.execute_reply": "2023-03-01T18:02:47.178118Z"
    },
    "papermill": {
     "duration": 0.01899,
     "end_time": "2023-03-01T18:02:47.182982",
     "exception": false,
     "start_time": "2023-03-01T18:02:47.163992",
     "status": "completed"
    },
    "tags": []
   },
   "outputs": [],
   "source": [
    "import warnings\n",
    "warnings.filterwarnings('ignore')"
   ]
  },
  {
   "cell_type": "code",
   "execution_count": 62,
   "id": "533716eb",
   "metadata": {
    "execution": {
     "iopub.execute_input": "2023-03-01T18:02:47.203976Z",
     "iopub.status.busy": "2023-03-01T18:02:47.202984Z",
     "iopub.status.idle": "2023-03-01T18:02:47.210613Z",
     "shell.execute_reply": "2023-03-01T18:02:47.209710Z"
    },
    "papermill": {
     "duration": 0.021271,
     "end_time": "2023-03-01T18:02:47.213587",
     "exception": false,
     "start_time": "2023-03-01T18:02:47.192316",
     "status": "completed"
    },
    "tags": []
   },
   "outputs": [
    {
     "name": "stdout",
     "output_type": "stream",
     "text": [
      "[[ 0.04601433 -0.34096773  1.18359575 -1.28821221 -0.69289057  0.71168975\n",
      "  -0.84827977 -0.27575966]]\n",
      "[0]\n"
     ]
    }
   ],
   "source": [
    "#standardize the input data\n",
    "std_data=scaler.transform(input_data_reshaped)\n",
    "print(std_data)\n",
    "prediction=classifier.predict(std_data)\n",
    "\n",
    "print(prediction)"
   ]
  },
  {
   "cell_type": "code",
   "execution_count": 63,
   "id": "83dac4bc",
   "metadata": {
    "execution": {
     "iopub.execute_input": "2023-03-01T18:02:47.237720Z",
     "iopub.status.busy": "2023-03-01T18:02:47.236946Z",
     "iopub.status.idle": "2023-03-01T18:02:47.243578Z",
     "shell.execute_reply": "2023-03-01T18:02:47.242212Z"
    },
    "papermill": {
     "duration": 0.020792,
     "end_time": "2023-03-01T18:02:47.246566",
     "exception": false,
     "start_time": "2023-03-01T18:02:47.225774",
     "status": "completed"
    },
    "tags": []
   },
   "outputs": [
    {
     "name": "stdout",
     "output_type": "stream",
     "text": [
      "The person is not diabetic\n"
     ]
    }
   ],
   "source": [
    "if (prediction[0]==0):\n",
    "    print('The person is not diabetic')\n",
    "else:\n",
    "    print('The person is diabetic')\n",
    "    "
   ]
  },
  {
   "cell_type": "code",
   "execution_count": 65,
   "id": "9699427a",
   "metadata": {},
   "outputs": [],
   "source": [
    "import pickle\n",
    "pickle.dump(classifier, open('diabetes_model.pkl','wb'))\n",
    "\n",
    "diabetes_disease = pickle.load(open('diabetes_model.pkl','rb'))"
   ]
  }
 ],
 "metadata": {
  "kernelspec": {
   "display_name": "Python 3 (ipykernel)",
   "language": "python",
   "name": "python3"
  },
  "language_info": {
   "codemirror_mode": {
    "name": "ipython",
    "version": 3
   },
   "file_extension": ".py",
   "mimetype": "text/x-python",
   "name": "python",
   "nbconvert_exporter": "python",
   "pygments_lexer": "ipython3",
   "version": "3.9.13"
  },
  "papermill": {
   "default_parameters": {},
   "duration": 11.716339,
   "end_time": "2023-03-01T18:02:48.081455",
   "environment_variables": {},
   "exception": null,
   "input_path": "__notebook__.ipynb",
   "output_path": "__notebook__.ipynb",
   "parameters": {},
   "start_time": "2023-03-01T18:02:36.365116",
   "version": "2.4.0"
  }
 },
 "nbformat": 4,
 "nbformat_minor": 5
}
